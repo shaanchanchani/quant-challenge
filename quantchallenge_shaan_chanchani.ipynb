{
 "cells": [
  {
   "cell_type": "markdown",
   "metadata": {},
   "source": [
    "## 1. Abstract\n",
    "In this report I analyze a dataset of 12,624 different NFL player prop bets from four major sportsbooks (DraftKings, ESPN BET, BetMGM, and Pinnacle), evaluate two different methods of adjusting implied probability to true probability (Power vs Multiplicative),  and lastly identify which sportbook in the dataset is the sharpest.\n",
    "\n",
    "My findings show that of the four major sportsbooks in the dataset, Pinnacle is the sharpest. My findings also reveal that the favorite-longshot bias is considered when sportsbooks distribute vigorish, and therefore accounting for this yields better true probability estimates. \n"
   ]
  },
  {
   "cell_type": "markdown",
   "metadata": {},
   "source": [
    "## 2. Data Pre-Processing\n",
    "The initial step in refining the dataset involved establishing a baseline from which to filter. This entailed extracting the closing lines for each sportsbook across all player prop markets and bets, totaling 261,525 bets."
   ]
  },
  {
   "cell_type": "code",
   "execution_count": 2,
   "metadata": {},
   "outputs": [
    {
     "name": "stdout",
     "output_type": "stream",
     "text": [
      "Total Player Props Collected: 261525\n"
     ]
    }
   ],
   "source": [
    "import numpy as np\n",
    "import pandas as pd\n",
    "import os\n",
    "base_path = './historical_data/football/NFL/'\n",
    "player_props = [x for x in os.listdir(base_path) if x.startswith('Player') and 'Fantasy' not in x.split()]\n",
    "sportsbooks = ['DraftKings', 'ESPN BET', 'BetMGM', 'Pinnacle']\n",
    "\n",
    "def get_closing_lines_for_market(df):\n",
    "    df['timestamp'] = pd.to_datetime(df['timestamp'], unit='s')\n",
    "    non_book_cols = [\"sport\", \"league\", \"start_date\", \"game_id\", \"home_team\", \"home_team_id\", \n",
    "                     \"away_team\", \"away_team_id\", \"market\", \"name\", \"grade\", \"desired\", \"outcome\"]\n",
    "    book_cols = df.columns.difference(non_book_cols + ['timestamp'])\n",
    "    new_df = df.sort_values(by='timestamp', ascending=False).groupby('name', as_index=False).first()\n",
    "    return new_df\n",
    "\n",
    "dfs = []\n",
    "for prop_market in player_props:\n",
    "    market_path = os.path.join(base_path, prop_market)\n",
    "    for csv_file in os.listdir(market_path):\n",
    "        file_path = os.path.join(market_path, csv_file)\n",
    "        df = pd.read_csv(file_path)\n",
    "        if 'outcome' in df.columns:\n",
    "            closing_lines_df = get_closing_lines_for_market(df)\n",
    "            dfs.append(closing_lines_df)\n",
    "\n",
    "combined_df = pd.concat(dfs, ignore_index=True)\n",
    "print(f\"Total Player Props Collected: {combined_df.shape[0]}\")"
   ]
  },
  {
   "cell_type": "markdown",
   "metadata": {},
   "source": [
    "However, not every book has a recorded closing line for all of these bets. This is a challenge that is common in data cleaning. In order to ensure accuracy of results, analysis was only conducted on the 4 major sportsbooks with the most recorded data. These 4 are DraftKings, ESPN BET, BetMGM, and Pinnacle. The 261,525 bets were filtered down to 15,456 bets in which there was a definitive result (refunded bets thrown out) and odds are present from all four of our sportsbooks of interest."
   ]
  },
  {
   "cell_type": "code",
   "execution_count": 3,
   "metadata": {},
   "outputs": [
    {
     "name": "stdout",
     "output_type": "stream",
     "text": [
      "Remaining Player Props: 15456\n"
     ]
    },
    {
     "data": {
      "text/html": [
       "<div>\n",
       "<style scoped>\n",
       "    .dataframe tbody tr th:only-of-type {\n",
       "        vertical-align: middle;\n",
       "    }\n",
       "\n",
       "    .dataframe tbody tr th {\n",
       "        vertical-align: top;\n",
       "    }\n",
       "\n",
       "    .dataframe thead th {\n",
       "        text-align: right;\n",
       "    }\n",
       "</style>\n",
       "<table border=\"1\" class=\"dataframe\">\n",
       "  <thead>\n",
       "    <tr style=\"text-align: right;\">\n",
       "      <th></th>\n",
       "      <th>market</th>\n",
       "      <th>name</th>\n",
       "      <th>DraftKings</th>\n",
       "      <th>ESPN BET</th>\n",
       "      <th>BetMGM</th>\n",
       "      <th>Pinnacle</th>\n",
       "      <th>grade</th>\n",
       "      <th>desired</th>\n",
       "      <th>outcome</th>\n",
       "    </tr>\n",
       "  </thead>\n",
       "  <tbody>\n",
       "    <tr>\n",
       "      <th>793</th>\n",
       "      <td>Player Passing Attempts</td>\n",
       "      <td>Mac Jones Over 33.5</td>\n",
       "      <td>-115.0</td>\n",
       "      <td>-120.0</td>\n",
       "      <td>-120.0</td>\n",
       "      <td>-121.0</td>\n",
       "      <td>Lost</td>\n",
       "      <td>33.5</td>\n",
       "      <td>20.0</td>\n",
       "    </tr>\n",
       "    <tr>\n",
       "      <th>794</th>\n",
       "      <td>Player Passing Attempts</td>\n",
       "      <td>Mac Jones Under 33.5</td>\n",
       "      <td>-115.0</td>\n",
       "      <td>-110.0</td>\n",
       "      <td>-110.0</td>\n",
       "      <td>-109.0</td>\n",
       "      <td>Won</td>\n",
       "      <td>33.5</td>\n",
       "      <td>20.0</td>\n",
       "    </tr>\n",
       "    <tr>\n",
       "      <th>815</th>\n",
       "      <td>Player Passing Attempts</td>\n",
       "      <td>Justin Fields Over 27.5</td>\n",
       "      <td>-115.0</td>\n",
       "      <td>-150.0</td>\n",
       "      <td>-115.0</td>\n",
       "      <td>-133.0</td>\n",
       "      <td>Won</td>\n",
       "      <td>27.5</td>\n",
       "      <td>32.0</td>\n",
       "    </tr>\n",
       "  </tbody>\n",
       "</table>\n",
       "</div>"
      ],
      "text/plain": [
       "                      market                     name  DraftKings  ESPN BET   \n",
       "793  Player Passing Attempts      Mac Jones Over 33.5      -115.0    -120.0  \\\n",
       "794  Player Passing Attempts     Mac Jones Under 33.5      -115.0    -110.0   \n",
       "815  Player Passing Attempts  Justin Fields Over 27.5      -115.0    -150.0   \n",
       "\n",
       "     BetMGM  Pinnacle grade  desired  outcome  \n",
       "793  -120.0    -121.0  Lost     33.5     20.0  \n",
       "794  -110.0    -109.0   Won     33.5     20.0  \n",
       "815  -115.0    -133.0   Won     27.5     32.0  "
      ]
     },
     "execution_count": 3,
     "metadata": {},
     "output_type": "execute_result"
    }
   ],
   "source": [
    "df = combined_df[['game_id', 'start_date', 'home_team', 'away_team', 'market', 'name', 'grade', 'desired', 'outcome'] + sportsbooks]\n",
    "df = df[(df['grade'] == 'Won')|(df['grade'] == 'Lost')]\n",
    "df = df.dropna(subset=sportsbooks, how='any')\n",
    "print(f\"Remaining Player Props: {df.shape[0]}\")\n",
    "df[['market', 'name']+ sportsbooks +['grade','desired','outcome']].head(3)"
   ]
  },
  {
   "cell_type": "markdown",
   "metadata": {},
   "source": [
    "Next, Odds from each sportsbook were converted to implied probabilities using the standard american odds conversion formulas.\n",
    "\n",
    "$$ Negative \\: American \\: Odds: \\;\\;\\;\\; Implied \\: Probability = \\frac{|Odds|}{|Odds| + 100}$$\n",
    "$$ Positive \\: American \\: Odds: \\;\\;\\;\\; Implied \\: Probability = \\frac{100}{Odds + 100}$$"
   ]
  },
  {
   "cell_type": "code",
   "execution_count": 4,
   "metadata": {},
   "outputs": [
    {
     "data": {
      "text/html": [
       "<div>\n",
       "<style scoped>\n",
       "    .dataframe tbody tr th:only-of-type {\n",
       "        vertical-align: middle;\n",
       "    }\n",
       "\n",
       "    .dataframe tbody tr th {\n",
       "        vertical-align: top;\n",
       "    }\n",
       "\n",
       "    .dataframe thead th {\n",
       "        text-align: right;\n",
       "    }\n",
       "</style>\n",
       "<table border=\"1\" class=\"dataframe\">\n",
       "  <thead>\n",
       "    <tr style=\"text-align: right;\">\n",
       "      <th></th>\n",
       "      <th>market</th>\n",
       "      <th>name</th>\n",
       "      <th>DraftKings</th>\n",
       "      <th>ESPN BET</th>\n",
       "      <th>BetMGM</th>\n",
       "      <th>Pinnacle</th>\n",
       "      <th>grade</th>\n",
       "      <th>desired</th>\n",
       "      <th>outcome</th>\n",
       "    </tr>\n",
       "  </thead>\n",
       "  <tbody>\n",
       "    <tr>\n",
       "      <th>793</th>\n",
       "      <td>Player Passing Attempts</td>\n",
       "      <td>Mac Jones Over 33.5</td>\n",
       "      <td>0.534884</td>\n",
       "      <td>0.545455</td>\n",
       "      <td>0.545455</td>\n",
       "      <td>0.547511</td>\n",
       "      <td>0</td>\n",
       "      <td>33.5</td>\n",
       "      <td>20.0</td>\n",
       "    </tr>\n",
       "    <tr>\n",
       "      <th>794</th>\n",
       "      <td>Player Passing Attempts</td>\n",
       "      <td>Mac Jones Under 33.5</td>\n",
       "      <td>0.534884</td>\n",
       "      <td>0.523810</td>\n",
       "      <td>0.523810</td>\n",
       "      <td>0.521531</td>\n",
       "      <td>1</td>\n",
       "      <td>33.5</td>\n",
       "      <td>20.0</td>\n",
       "    </tr>\n",
       "    <tr>\n",
       "      <th>815</th>\n",
       "      <td>Player Passing Attempts</td>\n",
       "      <td>Justin Fields Over 27.5</td>\n",
       "      <td>0.534884</td>\n",
       "      <td>0.600000</td>\n",
       "      <td>0.534884</td>\n",
       "      <td>0.570815</td>\n",
       "      <td>1</td>\n",
       "      <td>27.5</td>\n",
       "      <td>32.0</td>\n",
       "    </tr>\n",
       "  </tbody>\n",
       "</table>\n",
       "</div>"
      ],
      "text/plain": [
       "                      market                     name  DraftKings  ESPN BET   \n",
       "793  Player Passing Attempts      Mac Jones Over 33.5    0.534884  0.545455  \\\n",
       "794  Player Passing Attempts     Mac Jones Under 33.5    0.534884  0.523810   \n",
       "815  Player Passing Attempts  Justin Fields Over 27.5    0.534884  0.600000   \n",
       "\n",
       "       BetMGM  Pinnacle  grade  desired  outcome  \n",
       "793  0.545455  0.547511      0     33.5     20.0  \n",
       "794  0.523810  0.521531      1     33.5     20.0  \n",
       "815  0.534884  0.570815      1     27.5     32.0  "
      ]
     },
     "execution_count": 4,
     "metadata": {},
     "output_type": "execute_result"
    }
   ],
   "source": [
    "def american_odds_to_implied_probability(odds):\n",
    "    if odds > 0:\n",
    "        return 100 / (odds + 100) \n",
    "    else: \n",
    "        return abs(odds) / (abs(odds) + 100) \n",
    "df[sportsbooks] = df[sportsbooks].applymap(american_odds_to_implied_probability)\n",
    "df['grade'] = df['grade'].map({'Won': 1, 'Lost': 0})\n",
    "df[['market', 'name']+ sportsbooks +['grade','desired','outcome']].head(3)"
   ]
  },
  {
   "cell_type": "markdown",
   "metadata": {},
   "source": [
    "Next, the implied probabilities are adjusted to be true probabilities by removing the vigorish, or \"vig\". Several adjustment methods have been developed to accomplish this, the most popular method being the multiplicative (normalization) method. This is what is employed in the [OddsJam No-Vig Fair Odds Calculator](https://oddsjam.com/betting-calculators/no-vig-fair-odds). The process of removing the vigorish from implied probabilities is crucial as it serves as the foundation of the positive EV betting strategy. The multiplicative adjustment method expresses the true probability for the $i$ th outcome, $p_{i}$, as \n",
    "\n",
    "$$ p_{i} = \\frac{\\pi_{i}}{\\pi} $$\n",
    "\n",
    "where $\\pi$ is the total of the implied probabilities. The popularity of this approach can be attributed to its simplicity. The major limitation of this appraoch is that it fails to account for the Favourite-longshot bias, a well documented phenomenon in economics and gambling that says favorites are under-bet and underdogs are over-bet. The consequences of this phenomenon are that Bookmakers distribute a greater proportion of the vig to longshot bets rather than favorites. The power adjustment method is designed to overcome this limitation, it expresses the true probability for the the $i$ th outcome, $p_{i}$, as \n",
    "\n",
    "$$ p_{i} = \\pi_{i}^k $$\n",
    "\n",
    "where the value of $k$ is fine-tuned through an optimization process that ensures the sum of all adjusted probabilities, $\\Sigma p_{i} $, equals 1. The exponential nature of this method allows it to apply greater adjustments to underdogs than favorites, thus accounting for the favorite-longshot bias, and ultimately giving us a better reflection of the true probability. Both methods are used to see which yields better true probability values."
   ]
  },
  {
   "cell_type": "code",
   "execution_count": 191,
   "metadata": {},
   "outputs": [],
   "source": [
    "from scipy.optimize import minimize\n",
    "import pandas as pd\n",
    "def calc_vig(k, prob_under, prob_over):\n",
    "    adjusted_under = prob_under ** k\n",
    "    adjusted_over = prob_over ** k\n",
    "    return abs((adjusted_under + adjusted_over) - 1)\n",
    "\n",
    "def calc_true_prob(row, betting_companies):\n",
    "    results = {}\n",
    "    k_initial = 1 \n",
    "    for company in betting_companies:\n",
    "        prob_under = row[f'{company}_under']\n",
    "        prob_over = row[f'{company}_over']\n",
    "        # Using scipy's minimize function to find the optimal k\n",
    "        res = minimize(calc_vig, k_initial, args=(prob_under, prob_over))\n",
    "        k_optimal = res.x[0]\n",
    "        \n",
    "        results[f'{company}_true_power_under'] = prob_under ** k_optimal\n",
    "        results[f'{company}_true_power_over'] = prob_over ** k_optimal\n",
    "        \n",
    "        total_prob = prob_under + prob_over\n",
    "        results[f'{company}_true_mult_under'] = prob_under / total_prob\n",
    "        results[f'{company}_true_mult_over'] = prob_over / total_prob\n",
    "    return pd.Series(results)\n",
    "\n",
    "def align_bets_and_calc_true_prob(df, sportsbooks):\n",
    "    for term, new_column_name in [('Under', 'match_key_under'), ('Over', 'match_key_over')]:\n",
    "        mask = df['name'].apply(lambda x: x.strip().split()[-2] == term)\n",
    "        df.loc[mask, new_column_name] = df.loc[mask, 'name'].str.replace(f' {term}', '', case=False)\n",
    "    \n",
    "    df['match_key'] = df[['match_key_under', 'match_key_over']].bfill(axis=1).iloc[:, 0]\n",
    "    matched_df = pd.merge(df[df['match_key_under'].notnull()], df[df['match_key_over'].notnull()], on=['game_id', 'market', 'match_key'], suffixes=('_under', '_over'))\n",
    "    \n",
    "    true_values_df = matched_df.apply(lambda row: calc_true_prob(row, sportsbooks), axis=1)\n",
    "    matched_df_true = pd.concat([matched_df, true_values_df], axis=1)                      \n",
    "    return matched_df_true\n",
    "\n",
    "def simplify_df_columns(df, suffix):\n",
    "    return df[[col for col in df.columns if col.endswith(suffix) or col == 'market']].rename(columns=lambda x: x.replace(f'_{suffix}', ''))\n",
    "    \n",
    "matched_df_true = align_bets_and_calc_true_prob(df, sportsbooks)\n",
    "df_under = simplify_df_columns(matched_df_true, 'under')\n",
    "df_over = simplify_df_columns(matched_df_true, 'over')\n",
    "df_stacked = pd.concat([df_under, df_over], axis=0).reset_index(drop=True)\n",
    "mult_df = df_stacked[['market','name'] + [f'{x}_true_mult' for x in sportsbooks] + ['grade', 'desired', 'outcome']]\n",
    "power_df = df_stacked[['market','name'] + [f'{x}_true_power' for x in sportsbooks] + ['grade', 'desired', 'outcome']]"
   ]
  },
  {
   "cell_type": "markdown",
   "metadata": {},
   "source": [
    "Given that both sides of a bet are necessary to remove the vig from one side, any \"Over\" bet that did not have a corresponding \"Under\" bet had to be removed. This leaves us with our final cleaned and pre-processed dataset."
   ]
  },
  {
   "cell_type": "markdown",
   "metadata": {},
   "source": [
    "##### Multiplicative Method Dataset:"
   ]
  },
  {
   "cell_type": "code",
   "execution_count": 192,
   "metadata": {},
   "outputs": [
    {
     "name": "stdout",
     "output_type": "stream",
     "text": [
      "Remaining Player Props: 12624\n"
     ]
    },
    {
     "data": {
      "text/html": [
       "<div>\n",
       "<style scoped>\n",
       "    .dataframe tbody tr th:only-of-type {\n",
       "        vertical-align: middle;\n",
       "    }\n",
       "\n",
       "    .dataframe tbody tr th {\n",
       "        vertical-align: top;\n",
       "    }\n",
       "\n",
       "    .dataframe thead th {\n",
       "        text-align: right;\n",
       "    }\n",
       "</style>\n",
       "<table border=\"1\" class=\"dataframe\">\n",
       "  <thead>\n",
       "    <tr style=\"text-align: right;\">\n",
       "      <th></th>\n",
       "      <th>market</th>\n",
       "      <th>name</th>\n",
       "      <th>DraftKings_true_mult</th>\n",
       "      <th>ESPN BET_true_mult</th>\n",
       "      <th>BetMGM_true_mult</th>\n",
       "      <th>Pinnacle_true_mult</th>\n",
       "      <th>grade</th>\n",
       "      <th>desired</th>\n",
       "      <th>outcome</th>\n",
       "    </tr>\n",
       "  </thead>\n",
       "  <tbody>\n",
       "    <tr>\n",
       "      <th>0</th>\n",
       "      <td>Player Passing Attempts</td>\n",
       "      <td>Mac Jones Under 33.5</td>\n",
       "      <td>0.500000</td>\n",
       "      <td>0.489879</td>\n",
       "      <td>0.489879</td>\n",
       "      <td>0.487849</td>\n",
       "      <td>1</td>\n",
       "      <td>33.5</td>\n",
       "      <td>20.0</td>\n",
       "    </tr>\n",
       "    <tr>\n",
       "      <th>1</th>\n",
       "      <td>Player Passing Attempts</td>\n",
       "      <td>Justin Fields Under 27.5</td>\n",
       "      <td>0.500000</td>\n",
       "      <td>0.436681</td>\n",
       "      <td>0.500000</td>\n",
       "      <td>0.466934</td>\n",
       "      <td>0</td>\n",
       "      <td>27.5</td>\n",
       "      <td>32.0</td>\n",
       "    </tr>\n",
       "    <tr>\n",
       "      <th>2</th>\n",
       "      <td>Player Passing Attempts</td>\n",
       "      <td>Justin Fields Under 28.5</td>\n",
       "      <td>0.489879</td>\n",
       "      <td>0.489879</td>\n",
       "      <td>0.489879</td>\n",
       "      <td>0.477943</td>\n",
       "      <td>0</td>\n",
       "      <td>28.5</td>\n",
       "      <td>32.0</td>\n",
       "    </tr>\n",
       "  </tbody>\n",
       "</table>\n",
       "</div>"
      ],
      "text/plain": [
       "                    market                      name  DraftKings_true_mult   \n",
       "0  Player Passing Attempts      Mac Jones Under 33.5              0.500000  \\\n",
       "1  Player Passing Attempts  Justin Fields Under 27.5              0.500000   \n",
       "2  Player Passing Attempts  Justin Fields Under 28.5              0.489879   \n",
       "\n",
       "   ESPN BET_true_mult  BetMGM_true_mult  Pinnacle_true_mult  grade  desired   \n",
       "0            0.489879          0.489879            0.487849      1     33.5  \\\n",
       "1            0.436681          0.500000            0.466934      0     27.5   \n",
       "2            0.489879          0.489879            0.477943      0     28.5   \n",
       "\n",
       "   outcome  \n",
       "0     20.0  \n",
       "1     32.0  \n",
       "2     32.0  "
      ]
     },
     "execution_count": 192,
     "metadata": {},
     "output_type": "execute_result"
    }
   ],
   "source": [
    "print(f\"Remaining Player Props: {mult_df.shape[0]}\")\n",
    "mult_df.head(3)"
   ]
  },
  {
   "cell_type": "markdown",
   "metadata": {},
   "source": [
    "##### Power Method Dataset:"
   ]
  },
  {
   "cell_type": "code",
   "execution_count": 193,
   "metadata": {},
   "outputs": [
    {
     "name": "stdout",
     "output_type": "stream",
     "text": [
      "Remaining Player Props: 12624\n"
     ]
    },
    {
     "data": {
      "text/html": [
       "<div>\n",
       "<style scoped>\n",
       "    .dataframe tbody tr th:only-of-type {\n",
       "        vertical-align: middle;\n",
       "    }\n",
       "\n",
       "    .dataframe tbody tr th {\n",
       "        vertical-align: top;\n",
       "    }\n",
       "\n",
       "    .dataframe thead th {\n",
       "        text-align: right;\n",
       "    }\n",
       "</style>\n",
       "<table border=\"1\" class=\"dataframe\">\n",
       "  <thead>\n",
       "    <tr style=\"text-align: right;\">\n",
       "      <th></th>\n",
       "      <th>market</th>\n",
       "      <th>name</th>\n",
       "      <th>DraftKings_true_power</th>\n",
       "      <th>ESPN BET_true_power</th>\n",
       "      <th>BetMGM_true_power</th>\n",
       "      <th>Pinnacle_true_power</th>\n",
       "      <th>grade</th>\n",
       "      <th>desired</th>\n",
       "      <th>outcome</th>\n",
       "    </tr>\n",
       "  </thead>\n",
       "  <tbody>\n",
       "    <tr>\n",
       "      <th>0</th>\n",
       "      <td>Player Passing Attempts</td>\n",
       "      <td>Mac Jones Under 33.5</td>\n",
       "      <td>0.500000</td>\n",
       "      <td>0.488796</td>\n",
       "      <td>0.488796</td>\n",
       "      <td>0.486554</td>\n",
       "      <td>1</td>\n",
       "      <td>33.5</td>\n",
       "      <td>20.0</td>\n",
       "    </tr>\n",
       "    <tr>\n",
       "      <th>1</th>\n",
       "      <td>Player Passing Attempts</td>\n",
       "      <td>Justin Fields Under 27.5</td>\n",
       "      <td>0.500000</td>\n",
       "      <td>0.430331</td>\n",
       "      <td>0.500000</td>\n",
       "      <td>0.463311</td>\n",
       "      <td>0</td>\n",
       "      <td>27.5</td>\n",
       "      <td>32.0</td>\n",
       "    </tr>\n",
       "    <tr>\n",
       "      <th>2</th>\n",
       "      <td>Player Passing Attempts</td>\n",
       "      <td>Justin Fields Under 28.5</td>\n",
       "      <td>0.488796</td>\n",
       "      <td>0.488796</td>\n",
       "      <td>0.488796</td>\n",
       "      <td>0.475495</td>\n",
       "      <td>0</td>\n",
       "      <td>28.5</td>\n",
       "      <td>32.0</td>\n",
       "    </tr>\n",
       "  </tbody>\n",
       "</table>\n",
       "</div>"
      ],
      "text/plain": [
       "                    market                      name  DraftKings_true_power   \n",
       "0  Player Passing Attempts      Mac Jones Under 33.5               0.500000  \\\n",
       "1  Player Passing Attempts  Justin Fields Under 27.5               0.500000   \n",
       "2  Player Passing Attempts  Justin Fields Under 28.5               0.488796   \n",
       "\n",
       "   ESPN BET_true_power  BetMGM_true_power  Pinnacle_true_power  grade   \n",
       "0             0.488796           0.488796             0.486554      1  \\\n",
       "1             0.430331           0.500000             0.463311      0   \n",
       "2             0.488796           0.488796             0.475495      0   \n",
       "\n",
       "   desired  outcome  \n",
       "0     33.5     20.0  \n",
       "1     27.5     32.0  \n",
       "2     28.5     32.0  "
      ]
     },
     "execution_count": 193,
     "metadata": {},
     "output_type": "execute_result"
    }
   ],
   "source": [
    "print(f\"Remaining Player Props: {power_df.shape[0]}\")\n",
    "power_df.head(3)"
   ]
  },
  {
   "cell_type": "markdown",
   "metadata": {},
   "source": [
    "## 3. Analysis "
   ]
  },
  {
   "cell_type": "markdown",
   "metadata": {},
   "source": [
    "The remaining 12,624 bets are visualized below:"
   ]
  },
  {
   "cell_type": "code",
   "execution_count": 194,
   "metadata": {},
   "outputs": [
    {
     "data": {
      "image/png": "[encoded data removed]",
      "text/plain": [
       "<Figure size 800x900 with 1 Axes>"
      ]
     },
     "metadata": {},
     "output_type": "display_data"
    }
   ],
   "source": [
    "import matplotlib.pyplot as plt\n",
    "market_counts = power_df['market'].value_counts()\n",
    "labels=[f'{label} - {value/sum(market_counts.values)*100:.1f}%' for label, value in market_counts.items()]\n",
    "plt.figure(figsize=(8, 9))\n",
    "plt.pie(market_counts, startangle=140, labels = labels)\n",
    "plt.title('Dataset Composition: 12,624 Prop Bets', loc='center', fontsize=18)\n",
    "plt.show()"
   ]
  },
  {
   "cell_type": "markdown",
   "metadata": {},
   "source": [
    "My first attempt in analyzing the sharpness of the 4 sportsbooks involved calculating Brier Scores. The Brier Score is the Mean Squared Error equivalent metric for evaluating forecasted probabilities against binary outcomes. It is expressed as \n",
    "\n",
    "$$ BS  = \\frac{1}{N} \\Sigma^{N}_{t=1} (f_{t} - o_{t})^2 $$\n",
    "\n",
    "Brier scores are bounded by [0,1], 0 representing perfect accuracy and 1 representing perfect inaccuracy. Thus, the lesser the score, the better. "
   ]
  },
  {
   "cell_type": "code",
   "execution_count": 195,
   "metadata": {},
   "outputs": [
    {
     "data": {
      "text/html": [
       "<div>\n",
       "<style scoped>\n",
       "    .dataframe tbody tr th:only-of-type {\n",
       "        vertical-align: middle;\n",
       "    }\n",
       "\n",
       "    .dataframe tbody tr th {\n",
       "        vertical-align: top;\n",
       "    }\n",
       "\n",
       "    .dataframe thead th {\n",
       "        text-align: right;\n",
       "    }\n",
       "</style>\n",
       "<table border=\"1\" class=\"dataframe\">\n",
       "  <thead>\n",
       "    <tr style=\"text-align: right;\">\n",
       "      <th></th>\n",
       "      <th>Power Method</th>\n",
       "    </tr>\n",
       "  </thead>\n",
       "  <tbody>\n",
       "    <tr>\n",
       "      <th>Pinnacle</th>\n",
       "      <td>0.247429</td>\n",
       "    </tr>\n",
       "    <tr>\n",
       "      <th>ESPN BET</th>\n",
       "      <td>0.248400</td>\n",
       "    </tr>\n",
       "    <tr>\n",
       "      <th>BetMGM</th>\n",
       "      <td>0.248942</td>\n",
       "    </tr>\n",
       "    <tr>\n",
       "      <th>DraftKings</th>\n",
       "      <td>0.249184</td>\n",
       "    </tr>\n",
       "  </tbody>\n",
       "</table>\n",
       "</div>"
      ],
      "text/plain": [
       "            Power Method\n",
       "Pinnacle        0.247429\n",
       "ESPN BET        0.248400\n",
       "BetMGM          0.248942\n",
       "DraftKings      0.249184"
      ]
     },
     "execution_count": 195,
     "metadata": {},
     "output_type": "execute_result"
    }
   ],
   "source": [
    "for book in sportsbooks:\n",
    "    predicted_power = power_df[book + '_true_power']\n",
    "    actual_power = power_df['grade']\n",
    "    brier_score_power = np.mean((predicted_power - actual_power) ** 2)\n",
    "    predicted_mult = mult_df[book + '_true_mult']\n",
    "    actual_mult = mult_df['grade']\n",
    "    brier_score_mult = np.mean((predicted_mult - actual_mult) ** 2)\n",
    "    brier_scores[book] = [brier_score_power, brier_score_mult]\n",
    "brier_scores_df = pd.DataFrame(brier_scores, index=['Power Method', 'Multiplicative Method']).T\n",
    "pd.DataFrame(brier_scores_df['Power Method'].sort_values(ascending = True))"
   ]
  },
  {
   "cell_type": "code",
   "execution_count": 196,
   "metadata": {},
   "outputs": [
    {
     "data": {
      "text/html": [
       "<div>\n",
       "<style scoped>\n",
       "    .dataframe tbody tr th:only-of-type {\n",
       "        vertical-align: middle;\n",
       "    }\n",
       "\n",
       "    .dataframe tbody tr th {\n",
       "        vertical-align: top;\n",
       "    }\n",
       "\n",
       "    .dataframe thead th {\n",
       "        text-align: right;\n",
       "    }\n",
       "</style>\n",
       "<table border=\"1\" class=\"dataframe\">\n",
       "  <thead>\n",
       "    <tr style=\"text-align: right;\">\n",
       "      <th></th>\n",
       "      <th>Multiplicative Method</th>\n",
       "    </tr>\n",
       "  </thead>\n",
       "  <tbody>\n",
       "    <tr>\n",
       "      <th>Pinnacle</th>\n",
       "      <td>0.247508</td>\n",
       "    </tr>\n",
       "    <tr>\n",
       "      <th>ESPN BET</th>\n",
       "      <td>0.248662</td>\n",
       "    </tr>\n",
       "    <tr>\n",
       "      <th>DraftKings</th>\n",
       "      <td>0.248961</td>\n",
       "    </tr>\n",
       "    <tr>\n",
       "      <th>BetMGM</th>\n",
       "      <td>0.249182</td>\n",
       "    </tr>\n",
       "  </tbody>\n",
       "</table>\n",
       "</div>"
      ],
      "text/plain": [
       "            Multiplicative Method\n",
       "Pinnacle                 0.247508\n",
       "ESPN BET                 0.248662\n",
       "DraftKings               0.248961\n",
       "BetMGM                   0.249182"
      ]
     },
     "execution_count": 196,
     "metadata": {},
     "output_type": "execute_result"
    }
   ],
   "source": [
    "pd.DataFrame(brier_scores_df['Multiplicative Method'].sort_values(ascending = True))"
   ]
  },
  {
   "cell_type": "markdown",
   "metadata": {},
   "source": [
    "Our analysis reveals similar, yet slightly different results. Both adjustment methods identify Pinnacle as the leading bookmaker in terms of accuracy, followed by ESPN BET, with discrepancies observed in the rankings of BetMGM and DraftKings. \n",
    "\n",
    "Given that the difference in magnitude between all scores is very small, it's unclear whether or not these results statistically significant. Further analysis is still necessary to determine which book is the sharpest. \n",
    "\n",
    "The similarity in scores stems from the binary nature of our target variable (0 or 1), coupled with the industry practice among sportsbooks of maintaining very similar odds to deter arbitrage betting. In order gain more definitive insights, we can define a new metric to relate the actual outcomes of bets relative to their desired outcomes.\n",
    "\n",
    "Let this new metric be called distance to desired outcome and it can be calculated as follows:\n",
    "\n",
    "\n",
    "$$ Over \\: Bets:  \\: \\: \\: Distance = Outcome − Desired $$\n",
    "$$ Under \\: Bets: \\: \\: \\: Distance = Desired - Outcome $$\n",
    "\n",
    "This formula is inverted to maintain a consistent target variable across all bets. This approach aims to correlate the variable with accurate true probabilities. The sportsbook demonstrating the strongest correlation with this variable is considered the most precise in its predictions.\n",
    "\n",
    "The metric is valuable because it provides a medium to perform correlation analysis and ultimately determine which sportsbook is the sharpest. Since our dataset includes different player prop markets, it's imperative to first normalize this target variable according to the market. (i.e. 1 interception shouldn't be the same as 1 rushing yard)"
   ]
  },
  {
   "cell_type": "code",
   "execution_count": 198,
   "metadata": {},
   "outputs": [
    {
     "data": {
      "text/html": [
       "<div>\n",
       "<style scoped>\n",
       "    .dataframe tbody tr th:only-of-type {\n",
       "        vertical-align: middle;\n",
       "    }\n",
       "\n",
       "    .dataframe tbody tr th {\n",
       "        vertical-align: top;\n",
       "    }\n",
       "\n",
       "    .dataframe thead th {\n",
       "        text-align: right;\n",
       "    }\n",
       "</style>\n",
       "<table border=\"1\" class=\"dataframe\">\n",
       "  <thead>\n",
       "    <tr style=\"text-align: right;\">\n",
       "      <th></th>\n",
       "      <th>Correlation (Power)</th>\n",
       "    </tr>\n",
       "  </thead>\n",
       "  <tbody>\n",
       "    <tr>\n",
       "      <th>Pinnacle</th>\n",
       "      <td>0.131866</td>\n",
       "    </tr>\n",
       "    <tr>\n",
       "      <th>ESPN BET</th>\n",
       "      <td>0.130737</td>\n",
       "    </tr>\n",
       "    <tr>\n",
       "      <th>BetMGM</th>\n",
       "      <td>0.122552</td>\n",
       "    </tr>\n",
       "    <tr>\n",
       "      <th>DraftKings</th>\n",
       "      <td>0.111551</td>\n",
       "    </tr>\n",
       "  </tbody>\n",
       "</table>\n",
       "</div>"
      ],
      "text/plain": [
       "            Correlation (Power)\n",
       "Pinnacle               0.131866\n",
       "ESPN BET               0.130737\n",
       "BetMGM                 0.122552\n",
       "DraftKings             0.111551"
      ]
     },
     "execution_count": 198,
     "metadata": {},
     "output_type": "execute_result"
    }
   ],
   "source": [
    "# Normalizing both dataframes\n",
    "for market in power_df['market'].unique():\n",
    "    market_df = power_df[power_df['market'] == market].copy()\n",
    "    for column in ['desired', 'outcome']:\n",
    "        min_value = market_df[column].min()\n",
    "        max_value = market_df[column].max()\n",
    "        power_df.loc[market_df.index, f'{column}_norm'] = (market_df[column] - min_value) / (max_value - min_value)\n",
    "for market in mult_df['market'].unique():\n",
    "    market_df = mult_df[mult_df['market'] == market].copy()\n",
    "    for column in ['desired', 'outcome']:\n",
    "        min_value = market_df[column].min()\n",
    "        max_value = market_df[column].max()\n",
    "        mult_df.loc[market_df.index, f'{column}_norm'] = (market_df[column] - min_value) / (max_value - min_value)\n",
    "\n",
    "# Calculating distance to desired outcome for both dataframes\n",
    "power_df = power_df.copy()\n",
    "power_df['bet_type'] = power_df['name'].apply(lambda x: 'under' if 'Under' in x else 'over')\n",
    "power_df['distance'] = power_df.apply(lambda row: row['outcome_norm'] - row['desired_norm'] if row['bet_type'] == 'over' else row['desired_norm'] - row['outcome_norm'], axis=1)\n",
    "\n",
    "mult_df = mult_df.copy()\n",
    "mult_df['bet_type'] = mult_df['name'].apply(lambda x: 'under' if 'Under' in x else 'over')\n",
    "mult_df['distance'] = mult_df.apply(lambda row: row['outcome_norm'] - row['desired_norm'] if row['bet_type'] == 'over' else row['desired_norm'] - row['outcome_norm'], axis=1)\n",
    "\n",
    "# Calculating Pearson Correlation Coefficients \n",
    "corr_df = {}\n",
    "for book in sportsbooks:\n",
    "    power_val = power_df['distance'].corr(power_df[f'{book}_true_power'])\n",
    "    mult_val = mult_df['distance'].corr(mult_df[f'{book}_true_mult'])\n",
    "    corr_df[book] = [power_val, mult_val]\n",
    "corr_df = pd.DataFrame(corr_df, index = ['Correlation (Power)', 'Correlation (Multiplicative)'])\n",
    "\n",
    "corr_power = corr_df.loc['Correlation (Power)'].sort_values(ascending = False)\n",
    "pd.DataFrame(corr_power)"
   ]
  },
  {
   "cell_type": "code",
   "execution_count": 199,
   "metadata": {},
   "outputs": [
    {
     "data": {
      "text/html": [
       "<div>\n",
       "<style scoped>\n",
       "    .dataframe tbody tr th:only-of-type {\n",
       "        vertical-align: middle;\n",
       "    }\n",
       "\n",
       "    .dataframe tbody tr th {\n",
       "        vertical-align: top;\n",
       "    }\n",
       "\n",
       "    .dataframe thead th {\n",
       "        text-align: right;\n",
       "    }\n",
       "</style>\n",
       "<table border=\"1\" class=\"dataframe\">\n",
       "  <thead>\n",
       "    <tr style=\"text-align: right;\">\n",
       "      <th></th>\n",
       "      <th>Correlation (Multiplicative)</th>\n",
       "    </tr>\n",
       "  </thead>\n",
       "  <tbody>\n",
       "    <tr>\n",
       "      <th>Pinnacle</th>\n",
       "      <td>0.131301</td>\n",
       "    </tr>\n",
       "    <tr>\n",
       "      <th>ESPN BET</th>\n",
       "      <td>0.115561</td>\n",
       "    </tr>\n",
       "    <tr>\n",
       "      <th>BetMGM</th>\n",
       "      <td>0.110739</td>\n",
       "    </tr>\n",
       "    <tr>\n",
       "      <th>DraftKings</th>\n",
       "      <td>0.107577</td>\n",
       "    </tr>\n",
       "  </tbody>\n",
       "</table>\n",
       "</div>"
      ],
      "text/plain": [
       "            Correlation (Multiplicative)\n",
       "Pinnacle                        0.131301\n",
       "ESPN BET                        0.115561\n",
       "BetMGM                          0.110739\n",
       "DraftKings                      0.107577"
      ]
     },
     "execution_count": 199,
     "metadata": {},
     "output_type": "execute_result"
    }
   ],
   "source": [
    "corr_mult = corr_df.loc['Correlation (Multiplicative)'].sort_values(ascending=False)\n",
    "pd.DataFrame(corr_mult)"
   ]
  },
  {
   "cell_type": "markdown",
   "metadata": {},
   "source": [
    "## 4. Conclusion"
   ]
  },
  {
   "cell_type": "markdown",
   "metadata": {},
   "source": [
    "This analysis not only confirms Pinnacle as the sharpest among the four sportsbooks but also strongly indicates the presence of the favorite-longshot bias within our data, suggesting sportsbooks take this into account. Consequently, the power method emerges as potentially superior to the industry-standard multiplicative method for adjusting odds. The comparative analysis, underscored by Pearson correlation coefficients between each sportsbook's true odds and the distance to the desired outcome metric, reveals the power method's superior performance.\n",
    "\n",
    "Every value in the Power dataframe exceeds its counterpart in the multiplicative dataframe, highlighting the effectiveness of the power method. Further research into this is definitely waranted, especially considering the significant implications of even a minor advantage of the power method over the multiplicative method. This is because the computation of No-Vig Fair Odds lays the foundation for the EV formula, the performance boost from more accurate values could have a meaningful impact on the profitability of Positive EV betting as a whole."
   ]
  }
 ],
 "metadata": {
  "kernelspec": {
   "display_name": "balls",
   "language": "python",
   "name": "python3"
  },
  "language_info": {
   "codemirror_mode": {
    "name": "ipython",
    "version": 3
   },
   "file_extension": ".py",
   "mimetype": "text/x-python",
   "name": "python",
   "nbconvert_exporter": "python",
   "pygments_lexer": "ipython3",
   "version": "3.11.3"
  }
 },
 "nbformat": 4,
 "nbformat_minor": 2
}
